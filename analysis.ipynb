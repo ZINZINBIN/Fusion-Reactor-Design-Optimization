{
 "cells": [
  {
   "cell_type": "code",
   "execution_count": 1,
   "metadata": {},
   "outputs": [],
   "source": [
    "import numpy as np\n",
    "import matplotlib.pyplot as plt"
   ]
  },
  {
   "cell_type": "code",
   "execution_count": 21,
   "metadata": {},
   "outputs": [
    {
     "name": "stdout",
     "output_type": "stream",
     "text": [
      "indices :  (array([   258,    260,    415,    451,    515,    516,    517,    759,\n",
      "          844,    850,    879,    949,    980,   1007,   1381,   1382,\n",
      "         1573,   1574,   1735,   1751,   2173,   2174,   2443,  15075,\n",
      "        35012,  99839, 158846, 174558, 331764, 362735, 658399, 679646,\n",
      "       727973]),)\n"
     ]
    }
   ],
   "source": [
    "import pickle\n",
    "\n",
    "with open(\"./results/params_search_ddpg.pickle\", 'rb') as f:\n",
    "    result = pickle.load(f)\n",
    "    \n",
    "reward = result['reward']\n",
    "tau = [comp['tau'] for comp in result['state']]\n",
    "b_limit = result['beta_limit']\n",
    "q_limit = result['q_limit']\n",
    "n_limit = result['n_limit']\n",
    "f_limit = result['f_limit']\n",
    "i_limit = result['i_limit']\n",
    "\n",
    "import numpy as np\n",
    "tau = np.array(tau)\n",
    "b_limit = np.array(b_limit)\n",
    "q_limit = np.array(q_limit)\n",
    "n_limit = np.array(n_limit)\n",
    "f_limit = np.array(f_limit)\n",
    "i_limit = np.array(i_limit)\n",
    "reward = np.array(reward)\n",
    "\n",
    "indices = np.where(((b_limit == 1) * (q_limit == 1) * (n_limit == 1) * (f_limit == 1)) == 1)\n",
    "print(\"indices : \", indices)"
   ]
  },
  {
   "cell_type": "code",
   "execution_count": 22,
   "metadata": {},
   "outputs": [
    {
     "data": {
      "text/plain": [
       "array([2.9616714 , 2.95608528, 2.91421841, 2.9589042 , 2.85483435,\n",
       "       2.90578797, 2.86112353, 2.97771199, 2.94137497, 2.9602533 ,\n",
       "       2.94654191, 2.93918101, 2.89060363, 2.96697642, 2.88780543,\n",
       "       2.832996  , 2.93679859, 2.93639481, 2.98296078, 2.95686687,\n",
       "       2.94539168, 2.93999406, 2.96770422, 2.9584179 , 2.93015273,\n",
       "       2.91336643, 2.90280037, 2.94151814, 2.91451925, 2.93495316,\n",
       "       2.9422623 , 2.9390172 , 2.94898757])"
      ]
     },
     "execution_count": 22,
     "metadata": {},
     "output_type": "execute_result"
    }
   ],
   "source": [
    "reward[indices]"
   ]
  },
  {
   "cell_type": "code",
   "execution_count": 23,
   "metadata": {},
   "outputs": [
    {
     "data": {
      "text/plain": [
       "array([0.78815637, 0.80457528, 0.77099083, 0.78237779, 0.78865693,\n",
       "       0.79136138, 0.79942813, 0.75537172, 0.77920791, 0.78096626,\n",
       "       0.76077114, 0.78989076, 0.78252767, 0.77077191, 0.79978027,\n",
       "       0.80062016, 0.75672017, 0.76554194, 0.7479847 , 0.77770308,\n",
       "       0.78539416, 0.79608219, 0.78102153, 0.76945676, 0.77815641,\n",
       "       0.77506474, 0.77941275, 0.78548481, 0.78533123, 0.7916646 ,\n",
       "       0.77962587, 0.77905258, 0.77803672])"
      ]
     },
     "execution_count": 23,
     "metadata": {},
     "output_type": "execute_result"
    }
   ],
   "source": [
    "tau[indices]"
   ]
  },
  {
   "cell_type": "code",
   "execution_count": 24,
   "metadata": {},
   "outputs": [
    {
     "name": "stdout",
     "output_type": "stream",
     "text": [
      "n_tau : 1.536, n_tau_lawson : 3.768\n"
     ]
    }
   ],
   "source": [
    "n_tau = np.array([comp['n_tau'] for comp in result['state']])\n",
    "n_tau_lower = np.array([comp['n_tau_lower'] for comp in result['state']])\n",
    "idx = np.argmax(n_tau / n_tau_lower)\n",
    "\n",
    "print(\"n_tau : {:.3f}, n_tau_lawson : {:.3f}\".format(n_tau[idx], n_tau_lower[idx]))"
   ]
  },
  {
   "cell_type": "code",
   "execution_count": 25,
   "metadata": {},
   "outputs": [
    {
     "data": {
      "text/plain": [
       "{'R': 4.732756001640621,\n",
       " 'a': 0.9892292199906225,\n",
       " 'blanket_thickness': 0.8961271619398331,\n",
       " 'coil_thickness': 0.9052591808769666,\n",
       " 'n': 1.9849923094429323,\n",
       " 'TBR': 1.4479528583756984,\n",
       " 'beta': 3.7412867257363467,\n",
       " 'tau': 0.77383605385984,\n",
       " 'Ip': 5.909878740828339,\n",
       " 'q': 5.801975166129605,\n",
       " 'f_BS': 0.3795489605897273,\n",
       " 'Q_parallel': 621.6395115145606,\n",
       " 'n_g': 1.9223604601182565,\n",
       " 'q_kink': 2,\n",
       " 'beta_troyon': 2.4202158372139624,\n",
       " 'f_NC': 2.5792876959728903,\n",
       " 'n_tau': 1.5360586156814489,\n",
       " 'n_tau_lower': 3.768338471017189}"
      ]
     },
     "execution_count": 25,
     "metadata": {},
     "output_type": "execute_result"
    }
   ],
   "source": [
    "result['state'][idx]"
   ]
  },
  {
   "cell_type": "code",
   "execution_count": 26,
   "metadata": {},
   "outputs": [
    {
     "data": {
      "text/plain": [
       "{'betan': 2.967187,\n",
       " 'k': 2.8384042,\n",
       " 'epsilon': 4.7842865,\n",
       " 'electric_power': 999737060.546875,\n",
       " 'T_avg': 10.476976,\n",
       " 'B0': 12.61725,\n",
       " 'H': 1.5464562}"
      ]
     },
     "execution_count": 26,
     "metadata": {},
     "output_type": "execute_result"
    }
   ],
   "source": [
    "result['control'][idx]"
   ]
  },
  {
   "cell_type": "code",
   "execution_count": 34,
   "metadata": {},
   "outputs": [
    {
     "name": "stderr",
     "output_type": "stream",
     "text": [
      "No artists with labels found to put in legend.  Note that artists whose label start with an underscore are ignored when legend() is called with no argument.\n"
     ]
    },
    {
     "data": {
      "image/png": "[encoded data removed]",
      "text/plain": [
       "<Figure size 576x432 with 1 Axes>"
      ]
     },
     "metadata": {
      "needs_background": "light"
     },
     "output_type": "display_data"
    }
   ],
   "source": [
    "# n*tau*T graph\n",
    "from src.lawson import Lawson\n",
    "import matplotlib.pyplot as plt\n",
    "\n",
    "lawson = Lawson()\n",
    "\n",
    "T = [result['control'][idx]['T_avg'] for idx in indices[0]]\n",
    "n_tau = [result['state'][idx]['n_tau'] for idx in indices[0]]\n",
    "\n",
    "fig, axes = plt.subplots(1,2,figsize = (8,6))\n",
    "axes = axes.ravel()\n",
    "ax = axes[0]\n",
    "ax.scatter(T, n_tau)\n",
    "ax.set_xlabel(\"T(unit : keV)\")\n",
    "ax.set_ylabel(\"$(N\\\\tau_E)_{dt}(unit:10^{20}s * m^{-3})$\")\n",
    "ax.set_xlim([8,15])\n",
    "ax.set_ylim([0,10])\n",
    "ax.legend()\n",
    "\n",
    "ax = axes[1]\n",
    "ax.scatter(T, n_tau)\n",
    "ax.set_xlabel(\"T(unit : keV)\")\n",
    "ax.set_ylabel(\"$(N\\\\tau_E)_{dt}(unit:10^{20}s * m^{-3})$\")\n",
    "ax.set_xlim([8,15])\n",
    "ax.set_ylim([0,10])\n",
    "ax.legend()\n",
    "\n",
    "fig.tight_layout()"
   ]
  },
  {
   "cell_type": "code",
   "execution_count": 3,
   "metadata": {},
   "outputs": [
    {
     "name": "stdout",
     "output_type": "stream",
     "text": [
      "indices :  (array([], dtype=int64),)\n"
     ]
    }
   ],
   "source": [
    "import pickle\n",
    "\n",
    "with open(\"./results/params_search_sac.pickle\", 'rb') as f:\n",
    "    result = pickle.load(f)\n",
    "    \n",
    "tau = [comp['tau'] for comp in result['state']]\n",
    "b_limit = result['beta_limit']\n",
    "q_limit = result['q_limit']\n",
    "n_limit = result['n_limit']\n",
    "f_limit = result['f_limit']\n",
    "i_limit = result['i_limit']\n",
    "\n",
    "import numpy as np\n",
    "tau = np.array(tau)\n",
    "b_limit = np.array(b_limit)\n",
    "q_limit = np.array(q_limit)\n",
    "n_limit = np.array(n_limit)\n",
    "f_limit = np.array(f_limit)\n",
    "i_limit = np.array(i_limit)\n",
    "\n",
    "indices = np.where(((b_limit == 1) * (q_limit == 1) * (n_limit == 1) * (f_limit == 1)) == 1)\n",
    "print(\"indices : \", indices)"
   ]
  },
  {
   "cell_type": "code",
   "execution_count": 1,
   "metadata": {},
   "outputs": [
    {
     "name": "stdout",
     "output_type": "stream",
     "text": [
      "indices :  (array([   42,    56,    57, ..., 99980, 99985, 99987]),)\n"
     ]
    }
   ],
   "source": [
    "import pickle\n",
    "\n",
    "with open(\"./results/params_search_ppo.pickle\", 'rb') as f:\n",
    "    result = pickle.load(f)\n",
    "    \n",
    "tau = [comp['tau'] for comp in result['state']]\n",
    "b_limit = result['beta_limit']\n",
    "q_limit = result['q_limit']\n",
    "n_limit = result['n_limit']\n",
    "f_limit = result['f_limit']\n",
    "i_limit = result['i_limit']\n",
    "\n",
    "import numpy as np\n",
    "tau = np.array(tau)\n",
    "b_limit = np.array(b_limit)\n",
    "q_limit = np.array(q_limit)\n",
    "n_limit = np.array(n_limit)\n",
    "f_limit = np.array(f_limit)\n",
    "i_limit = np.array(i_limit)\n",
    "\n",
    "indices = np.where(((b_limit == 1) * (q_limit == 1) * (n_limit == 1) * (f_limit == 1)) == 1)\n",
    "print(\"indices : \", indices)"
   ]
  },
  {
   "cell_type": "code",
   "execution_count": 2,
   "metadata": {},
   "outputs": [
    {
     "name": "stderr",
     "output_type": "stream",
     "text": [
      "No artists with labels found to put in legend.  Note that artists whose label start with an underscore are ignored when legend() is called with no argument.\n",
      "No artists with labels found to put in legend.  Note that artists whose label start with an underscore are ignored when legend() is called with no argument.\n"
     ]
    },
    {
     "data": {
      "image/png": "[encoded data removed]",
      "text/plain": [
       "<Figure size 576x288 with 2 Axes>"
      ]
     },
     "metadata": {
      "needs_background": "light"
     },
     "output_type": "display_data"
    }
   ],
   "source": [
    "# n*tau*T graph\n",
    "from src.lawson import Lawson\n",
    "import matplotlib.pyplot as plt\n",
    "\n",
    "lawson = Lawson()\n",
    "\n",
    "T = [result['control'][idx]['T_avg'] for idx in indices[0]]\n",
    "n_tau = [result['state'][idx]['n_tau'] for idx in indices[0]]\n",
    "\n",
    "fig, axes = plt.subplots(1,2,figsize = (8,4))\n",
    "axes = axes.ravel()\n",
    "ax = axes[0]\n",
    "ax.scatter(T, n_tau)\n",
    "ax.set_xlabel(\"T(unit : keV)\")\n",
    "ax.set_ylabel(\"$(N\\\\tau_E)_{dt}(unit:10^{20}s * m^{-3})$\")\n",
    "ax.set_xlim([8,15])\n",
    "ax.set_ylim([0,5])\n",
    "ax.legend()\n",
    "\n",
    "ax = axes[1]\n",
    "ax.scatter(T, n_tau)\n",
    "ax.set_xlabel(\"T(unit : keV)\")\n",
    "ax.set_ylabel(\"$(N\\\\tau_E)_{dt}(unit:10^{20}s * m^{-3})$\")\n",
    "ax.set_xlim([8,15])\n",
    "ax.set_ylim([0,5])\n",
    "ax.legend()\n",
    "\n",
    "fig.tight_layout()"
   ]
  }
 ],
 "metadata": {
  "kernelspec": {
   "display_name": "research-env",
   "language": "python",
   "name": "python3"
  },
  "language_info": {
   "codemirror_mode": {
    "name": "ipython",
    "version": 3
   },
   "file_extension": ".py",
   "mimetype": "text/x-python",
   "name": "python",
   "nbconvert_exporter": "python",
   "pygments_lexer": "ipython3",
   "version": "3.9.12"
  },
  "orig_nbformat": 4
 },
 "nbformat": 4,
 "nbformat_minor": 2
}
