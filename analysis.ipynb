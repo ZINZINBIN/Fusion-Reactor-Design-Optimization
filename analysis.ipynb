{
 "cells": [
  {
   "cell_type": "code",
   "execution_count": 14,
   "metadata": {},
   "outputs": [
    {
     "name": "stdout",
     "output_type": "stream",
     "text": [
      "indices :  (array([ 1474,  1579,  1608, ..., 83581, 83679, 83744]),)\n"
     ]
    }
   ],
   "source": [
    "import pickle\n",
    "\n",
    "with open(\"./results/params_search_ppo.pickle\", 'rb') as f:\n",
    "    result = pickle.load(f)\n",
    "    \n",
    "tau = [comp['tau'] for comp in result['state']]\n",
    "b_limit = result['beta_limit']\n",
    "q_limit = result['q_limit']\n",
    "n_limit = result['n_limit']\n",
    "f_limit = result['f_limit']\n",
    "i_limit = result['i_limit']\n",
    "\n",
    "import numpy as np\n",
    "tau = np.array(tau)\n",
    "b_limit = np.array(b_limit)\n",
    "q_limit = np.array(q_limit)\n",
    "n_limit = np.array(n_limit)\n",
    "f_limit = np.array(f_limit)\n",
    "i_limit = np.array(i_limit)\n",
    "\n",
    "indices = np.where(((b_limit == 1) * (q_limit == 1) * (n_limit == 1) * (f_limit == 1)) == 1)\n",
    "print(\"indices : \", indices)"
   ]
  },
  {
   "cell_type": "code",
   "execution_count": 18,
   "metadata": {},
   "outputs": [
    {
     "name": "stderr",
     "output_type": "stream",
     "text": [
      "No artists with labels found to put in legend.  Note that artists whose label start with an underscore are ignored when legend() is called with no argument.\n",
      "No artists with labels found to put in legend.  Note that artists whose label start with an underscore are ignored when legend() is called with no argument.\n"
     ]
    },
    {
     "data": {
      "image/png": "[encoded data removed]",
      "text/plain": [
       "<Figure size 576x288 with 2 Axes>"
      ]
     },
     "metadata": {
      "needs_background": "light"
     },
     "output_type": "display_data"
    }
   ],
   "source": [
    "# n*tau*T graph\n",
    "from src.lawson import Lawson\n",
    "import matplotlib.pyplot as plt\n",
    "\n",
    "lawson = Lawson()\n",
    "\n",
    "# Lawson-criteria\n",
    "T = np.array([result['control'][idx]['T_avg'] for idx in indices[0]])\n",
    "n_tau = np.array([result['state'][idx]['n_tau'] for idx in indices[0]])\n",
    "n_tau_T = T * n_tau\n",
    "\n",
    "# Cost paramter\n",
    "cost = np.array([result['state'][idx]['cost'] for idx in indices[0]])\n",
    "\n",
    "fig, axes = plt.subplots(1,2,figsize = (8,4))\n",
    "axes = axes.ravel()\n",
    "ax = axes[0]\n",
    "ax.scatter(T, n_tau)\n",
    "ax.set_xlabel(\"T(unit : keV)\")\n",
    "ax.set_ylabel(\"$(N\\\\tau_E)_{dt}(unit:10^{20}s * m^{-3})$\")\n",
    "ax.axhline(1.5, 0, 1)\n",
    "ax.set_xlim([8,25])\n",
    "ax.set_ylim([0,5])\n",
    "ax.legend()\n",
    "\n",
    "ax = axes[1]\n",
    "ax.scatter(T, cost)\n",
    "ax.set_xlabel(\"T(unit : keV)\")\n",
    "ax.set_ylabel(\"cost params\")\n",
    "ax.set_xlim([8,25])\n",
    "ax.set_ylim([0,2])\n",
    "ax.legend()\n",
    "\n",
    "fig.tight_layout()"
   ]
  },
  {
   "cell_type": "code",
   "execution_count": 27,
   "metadata": {},
   "outputs": [
    {
     "name": "stdout",
     "output_type": "stream",
     "text": [
      "R : 4.663\n",
      "a : 1.582\n",
      "blanket_thickness : 1.233\n",
      "coil_thickness : 0.527\n",
      "n : 0.964\n",
      "TBR : 0.718\n",
      "beta : 6.463\n",
      "tau : 1.411\n",
      "Ip : 18.176\n",
      "q : 6.418\n",
      "f_BS : 0.686\n",
      "Q_parallel : 728.296\n",
      "n_g : 2.313\n",
      "q_kink : 2.000\n",
      "beta_troyon : 6.705\n",
      "f_NC : 0.878\n",
      "n_tau : 1.360\n",
      "n_tau_lower : 1.705\n",
      "cost : 0.651\n",
      "betan : 3.500\n",
      "k : 2.500\n",
      "epsilon : 2.948\n",
      "electric_power : 1409031250.000\n",
      "T_avg : 25.000\n",
      "B0 : 16.000\n",
      "H : 1.500\n",
      "armour_thickness : 0.150\n",
      "RF_recirculating_rate : 0.050\n"
     ]
    }
   ],
   "source": [
    "arg_min = np.argmin(cost)\n",
    "arg_min = indices[0][arg_min]\n",
    "\n",
    "for key in result['state'][arg_min].keys():\n",
    "    print(\"{} : {:.3f}\".format(key, result['state'][arg_min][key]))\n",
    "    \n",
    "for key in result['control'][arg_min].keys():\n",
    "    print(\"{} : {:.3f}\".format(key, result['control'][arg_min][key]))\n",
    "    "
   ]
  }
 ],
 "metadata": {
  "kernelspec": {
   "display_name": "research-env",
   "language": "python",
   "name": "python3"
  },
  "language_info": {
   "codemirror_mode": {
    "name": "ipython",
    "version": 3
   },
   "file_extension": ".py",
   "mimetype": "text/x-python",
   "name": "python",
   "nbconvert_exporter": "python",
   "pygments_lexer": "ipython3",
   "version": "3.9.12"
  },
  "orig_nbformat": 4
 },
 "nbformat": 4,
 "nbformat_minor": 2
}
