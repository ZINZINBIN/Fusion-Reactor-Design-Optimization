{
 "cells": [
  {
   "cell_type": "code",
   "execution_count": 1,
   "metadata": {},
   "outputs": [],
   "source": [
    "import numpy as np\n",
    "import matplotlib.pyplot as plt"
   ]
  },
  {
   "cell_type": "code",
   "execution_count": 21,
   "metadata": {},
   "outputs": [
    {
     "name": "stdout",
     "output_type": "stream",
     "text": [
      "indices :  (array([   258,    260,    415,    451,    515,    516,    517,    759,\n",
      "          844,    850,    879,    949,    980,   1007,   1381,   1382,\n",
      "         1573,   1574,   1735,   1751,   2173,   2174,   2443,  15075,\n",
      "        35012,  99839, 158846, 174558, 331764, 362735, 658399, 679646,\n",
      "       727973]),)\n"
     ]
    }
   ],
   "source": [
    "import pickle\n",
    "\n",
    "with open(\"./results/params_search_ddpg.pickle\", 'rb') as f:\n",
    "    result = pickle.load(f)\n",
    "    \n",
    "reward = result['reward']\n",
    "tau = [comp['tau'] for comp in result['state']]\n",
    "b_limit = result['beta_limit']\n",
    "q_limit = result['q_limit']\n",
    "n_limit = result['n_limit']\n",
    "f_limit = result['f_limit']\n",
    "i_limit = result['i_limit']\n",
    "\n",
    "import numpy as np\n",
    "tau = np.array(tau)\n",
    "b_limit = np.array(b_limit)\n",
    "q_limit = np.array(q_limit)\n",
    "n_limit = np.array(n_limit)\n",
    "f_limit = np.array(f_limit)\n",
    "i_limit = np.array(i_limit)\n",
    "reward = np.array(reward)\n",
    "\n",
    "indices = np.where(((b_limit == 1) * (q_limit == 1) * (n_limit == 1) * (f_limit == 1)) == 1)\n",
    "print(\"indices : \", indices)"
   ]
  },
  {
   "cell_type": "code",
   "execution_count": 22,
   "metadata": {},
   "outputs": [
    {
     "data": {
      "text/plain": [
       "array([2.9616714 , 2.95608528, 2.91421841, 2.9589042 , 2.85483435,\n",
       "       2.90578797, 2.86112353, 2.97771199, 2.94137497, 2.9602533 ,\n",
       "       2.94654191, 2.93918101, 2.89060363, 2.96697642, 2.88780543,\n",
       "       2.832996  , 2.93679859, 2.93639481, 2.98296078, 2.95686687,\n",
       "       2.94539168, 2.93999406, 2.96770422, 2.9584179 , 2.93015273,\n",
       "       2.91336643, 2.90280037, 2.94151814, 2.91451925, 2.93495316,\n",
       "       2.9422623 , 2.9390172 , 2.94898757])"
      ]
     },
     "execution_count": 22,
     "metadata": {},
     "output_type": "execute_result"
    }
   ],
   "source": [
    "reward[indices]"
   ]
  },
  {
   "cell_type": "code",
   "execution_count": 23,
   "metadata": {},
   "outputs": [
    {
     "data": {
      "text/plain": [
       "array([0.78815637, 0.80457528, 0.77099083, 0.78237779, 0.78865693,\n",
       "       0.79136138, 0.79942813, 0.75537172, 0.77920791, 0.78096626,\n",
       "       0.76077114, 0.78989076, 0.78252767, 0.77077191, 0.79978027,\n",
       "       0.80062016, 0.75672017, 0.76554194, 0.7479847 , 0.77770308,\n",
       "       0.78539416, 0.79608219, 0.78102153, 0.76945676, 0.77815641,\n",
       "       0.77506474, 0.77941275, 0.78548481, 0.78533123, 0.7916646 ,\n",
       "       0.77962587, 0.77905258, 0.77803672])"
      ]
     },
     "execution_count": 23,
     "metadata": {},
     "output_type": "execute_result"
    }
   ],
   "source": [
    "tau[indices]"
   ]
  },
  {
   "cell_type": "code",
   "execution_count": 24,
   "metadata": {},
   "outputs": [
    {
     "name": "stdout",
     "output_type": "stream",
     "text": [
      "n_tau : 1.536, n_tau_lawson : 3.768\n"
     ]
    }
   ],
   "source": [
    "n_tau = np.array([comp['n_tau'] for comp in result['state']])\n",
    "n_tau_lower = np.array([comp['n_tau_lower'] for comp in result['state']])\n",
    "idx = np.argmax(n_tau / n_tau_lower)\n",
    "\n",
    "print(\"n_tau : {:.3f}, n_tau_lawson : {:.3f}\".format(n_tau[idx], n_tau_lower[idx]))"
   ]
  },
  {
   "cell_type": "code",
   "execution_count": 25,
   "metadata": {},
   "outputs": [
    {
     "data": {
      "text/plain": [
       "{'R': 4.732756001640621,\n",
       " 'a': 0.9892292199906225,\n",
       " 'blanket_thickness': 0.8961271619398331,\n",
       " 'coil_thickness': 0.9052591808769666,\n",
       " 'n': 1.9849923094429323,\n",
       " 'TBR': 1.4479528583756984,\n",
       " 'beta': 3.7412867257363467,\n",
       " 'tau': 0.77383605385984,\n",
       " 'Ip': 5.909878740828339,\n",
       " 'q': 5.801975166129605,\n",
       " 'f_BS': 0.3795489605897273,\n",
       " 'Q_parallel': 621.6395115145606,\n",
       " 'n_g': 1.9223604601182565,\n",
       " 'q_kink': 2,\n",
       " 'beta_troyon': 2.4202158372139624,\n",
       " 'f_NC': 2.5792876959728903,\n",
       " 'n_tau': 1.5360586156814489,\n",
       " 'n_tau_lower': 3.768338471017189}"
      ]
     },
     "execution_count": 25,
     "metadata": {},
     "output_type": "execute_result"
    }
   ],
   "source": [
    "result['state'][idx]"
   ]
  },
  {
   "cell_type": "code",
   "execution_count": 26,
   "metadata": {},
   "outputs": [
    {
     "data": {
      "text/plain": [
       "{'betan': 2.967187,\n",
       " 'k': 2.8384042,\n",
       " 'epsilon': 4.7842865,\n",
       " 'electric_power': 999737060.546875,\n",
       " 'T_avg': 10.476976,\n",
       " 'B0': 12.61725,\n",
       " 'H': 1.5464562}"
      ]
     },
     "execution_count": 26,
     "metadata": {},
     "output_type": "execute_result"
    }
   ],
   "source": [
    "result['control'][idx]"
   ]
  },
  {
   "cell_type": "code",
   "execution_count": 34,
   "metadata": {},
   "outputs": [
    {
     "name": "stderr",
     "output_type": "stream",
     "text": [
      "No artists with labels found to put in legend.  Note that artists whose label start with an underscore are ignored when legend() is called with no argument.\n"
     ]
    },
    {
     "data": {
      "image/png": "[encoded data removed]",
      "text/plain": [
       "<Figure size 576x432 with 1 Axes>"
      ]
     },
     "metadata": {
      "needs_background": "light"
     },
     "output_type": "display_data"
    }
   ],
   "source": [
    "# n*tau*T graph\n",
    "from src.lawson import Lawson\n",
    "import matplotlib.pyplot as plt\n",
    "\n",
    "lawson = Lawson()\n",
    "\n",
    "T = [result['control'][idx]['T_avg'] for idx in indices[0]]\n",
    "n_tau = [result['state'][idx]['n_tau'] for idx in indices[0]]\n",
    "\n",
    "fig, axes = plt.subplots(1,2,figsize = (8,6))\n",
    "axes = axes.ravel()\n",
    "ax = axes[0]\n",
    "ax.scatter(T, n_tau)\n",
    "ax.set_xlabel(\"T(unit : keV)\")\n",
    "ax.set_ylabel(\"$(N\\\\tau_E)_{dt}(unit:10^{20}s * m^{-3})$\")\n",
    "ax.set_xlim([8,15])\n",
    "ax.set_ylim([0,10])\n",
    "ax.legend()\n",
    "\n",
    "ax = axes[1]\n",
    "ax.scatter(T, n_tau)\n",
    "ax.set_xlabel(\"T(unit : keV)\")\n",
    "ax.set_ylabel(\"$(N\\\\tau_E)_{dt}(unit:10^{20}s * m^{-3})$\")\n",
    "ax.set_xlim([8,15])\n",
    "ax.set_ylim([0,10])\n",
    "ax.legend()\n",
    "\n",
    "fig.tight_layout()"
   ]
  },
  {
   "cell_type": "code",
   "execution_count": 1,
   "metadata": {},
   "outputs": [
    {
     "name": "stdout",
     "output_type": "stream",
     "text": [
      "indices :  (array([], dtype=int64),)\n"
     ]
    }
   ],
   "source": [
    "import pickle\n",
    "\n",
    "with open(\"./results/params_search_sac.pickle\", 'rb') as f:\n",
    "    result = pickle.load(f)\n",
    "    \n",
    "tau = [comp['tau'] for comp in result['state']]\n",
    "b_limit = result['beta_limit']\n",
    "q_limit = result['q_limit']\n",
    "n_limit = result['n_limit']\n",
    "f_limit = result['f_limit']\n",
    "i_limit = result['i_limit']\n",
    "\n",
    "import numpy as np\n",
    "tau = np.array(tau)\n",
    "b_limit = np.array(b_limit)\n",
    "q_limit = np.array(q_limit)\n",
    "n_limit = np.array(n_limit)\n",
    "f_limit = np.array(f_limit)\n",
    "i_limit = np.array(i_limit)\n",
    "\n",
    "indices = np.where(((b_limit == 1) * (q_limit == 1) * (n_limit == 1) * (f_limit == 1)) == 1)\n",
    "print(\"indices : \", indices)"
   ]
  },
  {
   "cell_type": "code",
   "execution_count": 41,
   "metadata": {},
   "outputs": [],
   "source": [
    "n_tau = np.array([comp['n_tau'] for comp in result['state']])\n",
    "n_tau_lower = np.array([comp['n_tau_lower'] for comp in result['state']])\n",
    "idx = np.argmax(n_tau / n_tau_lower)"
   ]
  },
  {
   "cell_type": "code",
   "execution_count": 43,
   "metadata": {},
   "outputs": [
    {
     "data": {
      "text/plain": [
       "{'R': 4.853163711964875,\n",
       " 'a': 1.617721237321625,\n",
       " 'blanket_thickness': 0.8961271619398331,\n",
       " 'coil_thickness': 1.3694024055827678,\n",
       " 'n': 1.5463160627253096,\n",
       " 'TBR': 1.1989519212040136,\n",
       " 'beta': 2.9072021128257215,\n",
       " 'tau': 0.9834754464788559,\n",
       " 'Ip': 14.577765236823657,\n",
       " 'q': 4.949710360905531,\n",
       " 'f_BS': 0.48927244167716744,\n",
       " 'Q_parallel': 916.7926004926373,\n",
       " 'n_g': 1.7731019419653518,\n",
       " 'q_kink': 2,\n",
       " 'beta_troyon': 3.6618147112395234,\n",
       " 'f_NC': 0.9643809648386922,\n",
       " 'n_tau': 1.5207638801862005,\n",
       " 'n_tau_lower': 3.850498317865313}"
      ]
     },
     "execution_count": 43,
     "metadata": {},
     "output_type": "execute_result"
    }
   ],
   "source": [
    "result['state'][idx]"
   ]
  },
  {
   "cell_type": "code",
   "execution_count": 44,
   "metadata": {},
   "outputs": [
    {
     "data": {
      "text/plain": [
       "{'betan': 2.9999871,\n",
       " 'k': 2.5,\n",
       " 'epsilon': 3.0,\n",
       " 'electric_power': 1500000000.0,\n",
       " 'T_avg': 10.617602,\n",
       " 'B0': 16.0,\n",
       " 'H': 1.0000001}"
      ]
     },
     "execution_count": 44,
     "metadata": {},
     "output_type": "execute_result"
    }
   ],
   "source": [
    "result['control'][idx]"
   ]
  },
  {
   "cell_type": "code",
   "execution_count": 35,
   "metadata": {},
   "outputs": [
    {
     "name": "stdout",
     "output_type": "stream",
     "text": [
      "indices :  (array([  15,   49,   76,   90,   98,  115,  121,  129,  177,  193,  233,\n",
      "        257,  263,  278,  280,  310,  315,  316,  342,  366,  370,  380,\n",
      "        429,  443,  447,  451,  455,  456,  474,  480,  505,  509,  512,\n",
      "        517,  518,  521,  528,  543,  571,  610,  663,  684,  697,  724,\n",
      "        725,  726,  733,  760,  767,  797,  799,  801,  830,  831,  842,\n",
      "        843,  860,  872,  892,  904,  905,  906,  933,  941,  944,  948,\n",
      "        951,  966,  974, 1039, 1067, 1092, 1101, 1104, 1116, 1135, 1136,\n",
      "       1140, 1147, 1160, 1182, 1190, 1200, 1203, 1204, 1205, 1212, 1217,\n",
      "       1226, 1228, 1236, 1240, 1247, 1260, 1273, 1277, 1293, 1329, 1333,\n",
      "       1337, 1354, 1361, 1392, 1393, 1405, 1410, 1430, 1443, 1444, 1505,\n",
      "       1509, 1520, 1524, 1530, 1538, 1573, 1589, 1590, 1610, 1620, 1631,\n",
      "       1634, 1638, 1644, 1663, 1664, 1665, 1690, 1698, 1707, 1716, 1720,\n",
      "       1733, 1737, 1759, 1803, 1808, 1837, 1838, 1845, 1849, 1853, 1862,\n",
      "       1894, 1900, 1914, 1928, 1944, 1987, 2001, 2006, 2019, 2034, 2042,\n",
      "       2043, 2051, 2066, 2070, 2075, 2124, 2128, 2129, 2143, 2146, 2165,\n",
      "       2169, 2172, 2188, 2226, 2231, 2234, 2248, 2262, 2279, 2281, 2292,\n",
      "       2293, 2318, 2330, 2332, 2340, 2353, 2375, 2378, 2381, 2389, 2397,\n",
      "       2400, 2404, 2407, 2411, 2435, 2437, 2438, 2448, 2455, 2462, 2482,\n",
      "       2485, 2490, 2494, 2505, 2529, 2543, 2572, 2573, 2577, 2583, 2588,\n",
      "       2592, 2605, 2608, 2628, 2644, 2645, 2654, 2656, 2658, 2661, 2668,\n",
      "       2698, 2706, 2728, 2734, 2746, 2747, 2753, 2760, 2765, 2774, 2819,\n",
      "       2825, 2831, 2832, 2838, 2884, 2896, 2902, 2904, 2912, 2938, 2944,\n",
      "       2948, 2965, 2971, 2974, 2976, 2982, 3002, 3009, 3019, 3024, 3026,\n",
      "       3036, 3037, 3038, 3059, 3067, 3072, 3090, 3091, 3092, 3095, 3132,\n",
      "       3141, 3146, 3147, 3159, 3171, 3201, 3218, 3222, 3224, 3245, 3248,\n",
      "       3254, 3268, 3278, 3287, 3289, 3298, 3329, 3337, 3358, 3395, 3399,\n",
      "       3424, 3426, 3439, 3447, 3466, 3470, 3500, 3502, 3515, 3535, 3537,\n",
      "       3538, 3561, 3573, 3601, 3621, 3626, 3629, 3647, 3655, 3678, 3702,\n",
      "       3750, 3756, 3781, 3807, 3811, 3825, 3829, 3853, 3858, 3861, 3865,\n",
      "       3868, 3885, 3886, 3900, 3902, 3908, 3917, 3953, 3957, 3958, 3989,\n",
      "       3995, 4002, 4008, 4096, 4108, 4113, 4131, 4140, 4158, 4163, 4175,\n",
      "       4187, 4215, 4226, 4235, 4242, 4252, 4253, 4256, 4278, 4279, 4284,\n",
      "       4290, 4295, 4305, 4324, 4328, 4337, 4364, 4378, 4386, 4397, 4417,\n",
      "       4418, 4421, 4440, 4444, 4446, 4451, 4453, 4455, 4467, 4484, 4498,\n",
      "       4542, 4547, 4564, 4574, 4581, 4586, 4588, 4590, 4604, 4615, 4633,\n",
      "       4644, 4668, 4670, 4672, 4714, 4756, 4758, 4759, 4760, 4811, 4819,\n",
      "       4830, 4833, 4841, 4853, 4863, 4868, 4870, 4905, 4919, 4928, 4941,\n",
      "       4944, 4960, 4972, 4974, 4978, 4985, 5013, 5019, 5021, 5025, 5027,\n",
      "       5029, 5035, 5039, 5060, 5062, 5104, 5118, 5145, 5148, 5160, 5172,\n",
      "       5185, 5196, 5207, 5208, 5211, 5219, 5222, 5237, 5243, 5265, 5269,\n",
      "       5274, 5276, 5290, 5295, 5297, 5311, 5322, 5329, 5333, 5347, 5366,\n",
      "       5375, 5383, 5386, 5387, 5397, 5400, 5406, 5407, 5409, 5413, 5419,\n",
      "       5425, 5460, 5479, 5492, 5509, 5516, 5518, 5529, 5531, 5548, 5560,\n",
      "       5588, 5593, 5596, 5611, 5641, 5651, 5661, 5671, 5683, 5701, 5703,\n",
      "       5709, 5714, 5722, 5749, 5754, 5762, 5780, 5795, 5803, 5807, 5843,\n",
      "       5866, 5875, 5886, 5889, 5893, 5906, 5912, 5921, 5969, 5978, 5981,\n",
      "       5989, 5995, 6002, 6012, 6018, 6039, 6042, 6070, 6100, 6105, 6111,\n",
      "       6119, 6120, 6126, 6133, 6140, 6143, 6153, 6162, 6184, 6192, 6218,\n",
      "       6222, 6230, 6250, 6257, 6271, 6273, 6275, 6277, 6306, 6314, 6318,\n",
      "       6349, 6351, 6356, 6361, 6367, 6370, 6372, 6377, 6385, 6397, 6414,\n",
      "       6431, 6450, 6451, 6460, 6472, 6521, 6525, 6546, 6566, 6595, 6599,\n",
      "       6638, 6697, 6711, 6737, 6747, 6759, 6760, 6761, 6763, 6765, 6768,\n",
      "       6769, 6782, 6786, 6795, 6830, 6832, 6837, 6838, 6839, 6865, 6877,\n",
      "       6893, 6898, 6901, 6907, 6945, 6956, 6982, 7005, 7014, 7017, 7037,\n",
      "       7047, 7058, 7079, 7103, 7107, 7120, 7131, 7142, 7157, 7185, 7187,\n",
      "       7211, 7215, 7232, 7246, 7255, 7281, 7284, 7307, 7317, 7323, 7330,\n",
      "       7331, 7351, 7357, 7363, 7376, 7378, 7382, 7392, 7401, 7411, 7429,\n",
      "       7440, 7465, 7486, 7488, 7505, 7524, 7529, 7541, 7556, 7564, 7565,\n",
      "       7568, 7618, 7632, 7636, 7649, 7660, 7713, 7744, 7759, 7774, 7779,\n",
      "       7783, 7784, 7794, 7883, 7889, 7899, 7920, 7932, 7933, 7934, 7941,\n",
      "       7952, 7962, 7964, 7976, 7994, 8005, 8017, 8027, 8032, 8055, 8062,\n",
      "       8068, 8075, 8090, 8149, 8150, 8151, 8153, 8162, 8166, 8176, 8177,\n",
      "       8178, 8190, 8196, 8199, 8225, 8237, 8241, 8244, 8258, 8265, 8279,\n",
      "       8282, 8284, 8285, 8289, 8311, 8325, 8343, 8360, 8362, 8368, 8390,\n",
      "       8396, 8435, 8442, 8447, 8451, 8486, 8488, 8489, 8516, 8517, 8532,\n",
      "       8539, 8558, 8579, 8586, 8606, 8611, 8619, 8635, 8669, 8707, 8714,\n",
      "       8721, 8738, 8749, 8758, 8760, 8763, 8778, 8790, 8804, 8805, 8806,\n",
      "       8820, 8827, 8828, 8837, 8839, 8849, 8868, 8888, 8892, 8910, 8918,\n",
      "       8932, 8934, 8940, 8955, 8961, 8974, 9000, 9019, 9027, 9032, 9047,\n",
      "       9054, 9078, 9079, 9095, 9113, 9165, 9175, 9195, 9198, 9214, 9260,\n",
      "       9265, 9266, 9287, 9293, 9297, 9305, 9349, 9378, 9384, 9389, 9392,\n",
      "       9393, 9401, 9406, 9412, 9444, 9446, 9449, 9491, 9512, 9540, 9555,\n",
      "       9580, 9587, 9591, 9601, 9620, 9631, 9644, 9660, 9662, 9691, 9708,\n",
      "       9709, 9731, 9737, 9763, 9764, 9766, 9806, 9809, 9842, 9845, 9848,\n",
      "       9850, 9861, 9864, 9865, 9866, 9873, 9889, 9893, 9895, 9927, 9929,\n",
      "       9931, 9981, 9982, 9993, 9997]),)\n"
     ]
    }
   ],
   "source": [
    "import pickle\n",
    "\n",
    "with open(\"./results/params_search_ppo.pickle\", 'rb') as f:\n",
    "    result = pickle.load(f)\n",
    "    \n",
    "tau = [comp['tau'] for comp in result['state']]\n",
    "b_limit = result['beta_limit']\n",
    "q_limit = result['q_limit']\n",
    "n_limit = result['n_limit']\n",
    "f_limit = result['f_limit']\n",
    "i_limit = result['i_limit']\n",
    "\n",
    "import numpy as np\n",
    "tau = np.array(tau)\n",
    "b_limit = np.array(b_limit)\n",
    "q_limit = np.array(q_limit)\n",
    "n_limit = np.array(n_limit)\n",
    "f_limit = np.array(f_limit)\n",
    "i_limit = np.array(i_limit)\n",
    "\n",
    "indices = np.where(((b_limit == 1) * (q_limit == 1) * (n_limit == 1) * (f_limit == 1)) == 1)\n",
    "print(\"indices : \", indices)"
   ]
  },
  {
   "cell_type": "code",
   "execution_count": 39,
   "metadata": {},
   "outputs": [
    {
     "name": "stderr",
     "output_type": "stream",
     "text": [
      "No artists with labels found to put in legend.  Note that artists whose label start with an underscore are ignored when legend() is called with no argument.\n",
      "No artists with labels found to put in legend.  Note that artists whose label start with an underscore are ignored when legend() is called with no argument.\n"
     ]
    },
    {
     "data": {
      "image/png": "[encoded data removed]",
      "text/plain": [
       "<Figure size 576x288 with 2 Axes>"
      ]
     },
     "metadata": {
      "needs_background": "light"
     },
     "output_type": "display_data"
    }
   ],
   "source": [
    "# n*tau*T graph\n",
    "from src.lawson import Lawson\n",
    "import matplotlib.pyplot as plt\n",
    "\n",
    "lawson = Lawson()\n",
    "\n",
    "T = [result['control'][idx]['T_avg'] for idx in indices[0]]\n",
    "n_tau = [result['state'][idx]['n_tau'] for idx in indices[0]]\n",
    "\n",
    "fig, axes = plt.subplots(1,2,figsize = (8,4))\n",
    "axes = axes.ravel()\n",
    "ax = axes[0]\n",
    "ax.scatter(T, n_tau)\n",
    "ax.set_xlabel(\"T(unit : keV)\")\n",
    "ax.set_ylabel(\"$(N\\\\tau_E)_{dt}(unit:10^{20}s * m^{-3})$\")\n",
    "ax.set_xlim([8,15])\n",
    "ax.set_ylim([0,5])\n",
    "ax.legend()\n",
    "\n",
    "ax = axes[1]\n",
    "ax.scatter(T, n_tau)\n",
    "ax.set_xlabel(\"T(unit : keV)\")\n",
    "ax.set_ylabel(\"$(N\\\\tau_E)_{dt}(unit:10^{20}s * m^{-3})$\")\n",
    "ax.set_xlim([8,15])\n",
    "ax.set_ylim([0,5])\n",
    "ax.legend()\n",
    "\n",
    "fig.tight_layout()"
   ]
  }
 ],
 "metadata": {
  "kernelspec": {
   "display_name": "research-env",
   "language": "python",
   "name": "python3"
  },
  "language_info": {
   "codemirror_mode": {
    "name": "ipython",
    "version": 3
   },
   "file_extension": ".py",
   "mimetype": "text/x-python",
   "name": "python",
   "nbconvert_exporter": "python",
   "pygments_lexer": "ipython3",
   "version": "3.9.12"
  },
  "orig_nbformat": 4
 },
 "nbformat": 4,
 "nbformat_minor": 2
}
