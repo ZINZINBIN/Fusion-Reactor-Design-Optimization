{
 "cells": [
  {
   "cell_type": "code",
   "execution_count": 1,
   "metadata": {},
   "outputs": [
    {
     "name": "stdout",
     "output_type": "stream",
     "text": [
      "indices :  [ 824 3019 8751]\n"
     ]
    }
   ],
   "source": [
    "import pickle\n",
    "import numpy as np\n",
    "\n",
    "# Previous version: 2023\n",
    "# with open(\"./results/params_search_ppo.pickle\", 'rb') as f:\n",
    "#     result = pickle.load(f)\n",
    "    \n",
    "# Current version: 2024\n",
    "with open(\"./results/params_search_PPO_solid.pkl\", 'rb') as f:\n",
    "    result = pickle.load(f)\n",
    "    \n",
    "tau = [comp['tau'] for comp in result['state']]\n",
    "b_limit = result['beta_limit']\n",
    "q_limit = result['q_limit']\n",
    "n_limit = result['n_limit']\n",
    "f_limit = result['f_limit']\n",
    "i_limit = result['i_limit']\n",
    "tbr = np.array([result['state'][idx]['TBR'] for idx in range(len(tau))])\n",
    "T = np.array([result['control'][idx]['T_avg'] for idx in range(len(tau))])\n",
    "\n",
    "tau = np.array(tau)\n",
    "b_limit = np.array(b_limit)\n",
    "q_limit = np.array(q_limit)\n",
    "n_limit = np.array(n_limit)\n",
    "f_limit = np.array(f_limit)\n",
    "i_limit = np.array(i_limit)\n",
    "\n",
    "# 2023 version\n",
    "indices = np.where(((b_limit == 1) * (q_limit == 1) * (n_limit == 1) * (f_limit == 1) * (tbr >= 1) * (tbr < 2)) == 1)\n",
    "print(\"indices : \", indices[0])"
   ]
  },
  {
   "cell_type": "code",
   "execution_count": 2,
   "metadata": {},
   "outputs": [
    {
     "name": "stderr",
     "output_type": "stream",
     "text": [
      "No artists with labels found to put in legend.  Note that artists whose label start with an underscore are ignored when legend() is called with no argument.\n",
      "No artists with labels found to put in legend.  Note that artists whose label start with an underscore are ignored when legend() is called with no argument.\n"
     ]
    },
    {
     "data": {
      "image/png": "[encoded data removed]",
      "text/plain": [
       "<Figure size 576x288 with 2 Axes>"
      ]
     },
     "metadata": {
      "needs_background": "light"
     },
     "output_type": "display_data"
    }
   ],
   "source": [
    "# n*tau*T graph\n",
    "from src.lawson import Lawson\n",
    "import matplotlib.pyplot as plt\n",
    "\n",
    "lawson = Lawson()\n",
    "\n",
    "# Lawson-criteria\n",
    "T = np.array([result['control'][idx]['T_avg'] for idx in indices[0]])\n",
    "n_tau = np.array([result['state'][idx]['n_tau'] for idx in indices[0]])\n",
    "n_tau_T = T * n_tau\n",
    "\n",
    "# Cost paramter\n",
    "cost = np.array([result['state'][idx]['cost'] for idx in indices[0]])\n",
    "\n",
    "fig, axes = plt.subplots(1,2,figsize = (8,4))\n",
    "axes = axes.ravel()\n",
    "ax = axes[0]\n",
    "ax.scatter(T, n_tau)\n",
    "ax.set_xlabel(\"T(unit : keV)\")\n",
    "ax.set_ylabel(\"$(N\\\\tau_E)_{dt}(unit:10^{20}s * m^{-3})$\")\n",
    "ax.axhline(1.5, 0, 1)\n",
    "ax.set_xlim([8,25])\n",
    "ax.set_ylim([0,5])\n",
    "ax.legend()\n",
    "\n",
    "ax = axes[1]\n",
    "ax.scatter(T, cost)\n",
    "ax.set_xlabel(\"T(unit : keV)\")\n",
    "ax.set_ylabel(\"cost params\")\n",
    "ax.set_xlim([8,25])\n",
    "ax.set_ylim([0,2])\n",
    "ax.legend()\n",
    "\n",
    "fig.tight_layout()"
   ]
  },
  {
   "cell_type": "code",
   "execution_count": 3,
   "metadata": {},
   "outputs": [
    {
     "name": "stdout",
     "output_type": "stream",
     "text": [
      "R : 3.697\n",
      "a : 0.888\n",
      "blanket_thickness : 0.899\n",
      "coil_thickness : 1.262\n",
      "n : 2.174\n",
      "TBR : 1.336\n",
      "beta : 3.887\n",
      "tau : 0.710\n",
      "Ip : 8.058\n",
      "q : 2.286\n",
      "f_BS : 0.516\n",
      "Q_parallel : 396.155\n",
      "n_g : 3.251\n",
      "q_kink : 2.000\n",
      "beta_troyon : 4.235\n",
      "f_NC : 0.790\n",
      "n_tau : 1.543\n",
      "n_tau_lower : 3.808\n",
      "cost : 0.687\n",
      "betan : 3.500\n",
      "k : 1.899\n",
      "epsilon : 4.162\n",
      "electric_power : 500000000.000\n",
      "T_avg : 10.414\n",
      "B0 : 15.315\n",
      "H : 1.300\n",
      "armour_thickness : 0.000\n",
      "RF_recirculating_rate : 0.200\n"
     ]
    }
   ],
   "source": [
    "arg_min = np.argmin(cost)\n",
    "arg_min = indices[0][arg_min]\n",
    "\n",
    "for key in result['state'][arg_min].keys():\n",
    "    print(\"{} : {:.3f}\".format(key, result['state'][arg_min][key]))\n",
    "    \n",
    "for key in result['control'][arg_min].keys():\n",
    "    print(\"{} : {:.3f}\".format(key, result['control'][arg_min][key]))\n",
    "    "
   ]
  },
  {
   "cell_type": "markdown",
   "metadata": {},
   "source": [
    "### Gridsearch case"
   ]
  },
  {
   "cell_type": "code",
   "execution_count": 16,
   "metadata": {},
   "outputs": [
    {
     "name": "stdout",
     "output_type": "stream",
     "text": [
      "indices :  [  20   24   26   27   28   29   70   74   76   77   78   79  120  128\n",
      "  129  170  178  179  220  224  227  228  229  270  274  277  278  279\n",
      "  320  324  326  327  328  329  370  374  376  377  378  379  420  424\n",
      "  427  428  429  470  474  477  478  479  519  523  527  528  569  573\n",
      "  577  578  619  627  628  669  677  678  719  723  727  728  769  773\n",
      "  777  778  918  922  926  927  968  972  976  977 1118 1122 1126 1127\n",
      " 1168 1172 1176 1177 1218 1222 1224 1225 1226 1227 1268 1272 1274 1275\n",
      " 1276 1277 1518 1522 1525 1526 1527 1568 1572 1575 1576 1577 1618 1622\n",
      " 1625 1626 1627 1668 1672 1675 1676 1677 1717 1721 1723 1724 1725 1726\n",
      " 1767 1771 1773 1774 1775 1776 1817 1821 1825 1826 1867 1871 1875 1876\n",
      " 1917 1921 1924 1925 1926 1967 1971 1974 1975 1976 2117 2121 2123 2124\n",
      " 2125 2126 2167 2171 2173 2174 2175 2176 2616 2620 2622 2623 2624 2625\n",
      " 2666 2670 2672 2673 2674 2675 3015 3019 3021 3022 3023 3024 3065 3069\n",
      " 3071 3072 3073 3074 3115 3123 3124 3165 3173 3174 3215 3219 3222 3223\n",
      " 3224 3265 3269 3272 3273 3274 3415 3419 3421 3422 3423 3424 3465 3469\n",
      " 3471 3472 3473 3474 3515 3519 3523 3524 3565 3569 3573 3574 3615 3619\n",
      " 3623 3624 3664 3668 3672 3673 3714 3718 3721 3722 3723 3764 3768 3771\n",
      " 3772 3773 3914 3918 3922 3923 3964 3968 3972 3973 4014 4018 4021 4022\n",
      " 4023 4064 4068 4071 4072 4073 4114 4123 4164 4173 4214 4218 4222 4223\n",
      " 4264 4268 4272 4273 4314 4318 4321 4322 4323 4364 4368 4371 4372 4373\n",
      " 4414 4418 4422 4423 4464 4468 4472 4473 4514 4522 4523 4564 4572 4573\n",
      " 4614 4622 4623 4663 4671 4672 4712 4716 4720 4721 4762 4766 4770 4771\n",
      " 4912 4920 4921 4962 4970 4971 5112 5116 5120 5121 5162 5166 5170 5171\n",
      " 5212 5216 5218 5219 5220 5221 5262 5266 5268 5269 5270 5271 5412 5416\n",
      " 5418 5419 5420 5421 5462 5466 5468 5469 5470 5471 5512 5516 5520 5521\n",
      " 5562 5566 5570 5571 5612 5616 5620 5621 5662 5666 5670 5671 5712 5716\n",
      " 5719 5720 5721 5762 5766 5769 5770 5771 5912 5916 5919 5920 5921 5962\n",
      " 5966 5969 5970 5971 6112 6116 6119 6120 6121 6162 6166 6169 6170 6171\n",
      " 6512 6516 6519 6520 6521 6562 6566 6569 6570 6571 6612 6616 6619 6620\n",
      " 6621 6662 6666 6669 6670 6671 6712 6716 6718 6719 6720 6721 6762 6766\n",
      " 6768 6769 6770 6771 6812 6816 6820 6821 6862 6866 6870 6871 6912 6916\n",
      " 6918 6919 6920 6921 6962 6966 6968 6969 6970 6971 7012 7016 7019 7020\n",
      " 7021 7062 7066 7069 7070 7071 7112 7120 7121 7161 7169 7170 7211 7215\n",
      " 7219 7220 7261 7265 7269 7270 7311 7315 7317 7318 7319 7320 7361 7365\n",
      " 7367 7368 7369 7370 7411 7415 7418 7419 7420 7461 7465 7468 7469 7470\n",
      " 7511 7519 7520 7561 7569 7570 7611 7619 7620 7661 7669 7670 7711 7715\n",
      " 7719 7720 7761 7765 7769 7770 7910 7914 7918 7919 7960 7964 7968 7969\n",
      " 8109 8113 8116 8117 8118 8159 8163 8166 8167 8168 8508 8512 8514 8515\n",
      " 8516 8517 8558 8562 8564 8565 8566 8567 8607 8611 8613 8614 8615 8616\n",
      " 8657 8661 8663 8664 8665 8666 8807 8811 8814 8815 8816 8857 8861 8864\n",
      " 8865 8866 8907 8909 8911 8913 8914 8915 8916 8957 8960 8962 8963 8964\n",
      " 8965]\n",
      "# of cases : 575\n"
     ]
    }
   ],
   "source": [
    "import pickle\n",
    "import numpy as np\n",
    "\n",
    "with open(\"./results/params_search_gridsearch_solid.pkl\", 'rb') as f:\n",
    "    result = pickle.load(f)\n",
    "    \n",
    "tau = [comp['tau'] for comp in result['state']]\n",
    "b_limit = result['beta_limit']\n",
    "q_limit = result['q_limit']\n",
    "n_limit = result['n_limit']\n",
    "f_limit = result['f_limit']\n",
    "i_limit = result['i_limit']\n",
    "tbr = np.array([result['state'][idx]['TBR'] for idx in range(len(tau))])\n",
    "T = np.array([result['control'][idx]['T_avg'] for idx in range(len(tau))])\n",
    "\n",
    "tau = np.array(tau)\n",
    "b_limit = np.array(b_limit)\n",
    "q_limit = np.array(q_limit)\n",
    "n_limit = np.array(n_limit)\n",
    "f_limit = np.array(f_limit)\n",
    "i_limit = np.array(i_limit)\n",
    "\n",
    "indices = np.where(((b_limit == 1) * (q_limit == 1) * (n_limit == 1) * (f_limit == 1) * (tbr >= 1) * (tbr < 2)) == 1)\n",
    "print(\"indices : \", indices[0])\n",
    "print(\"# of cases : {}\".format(len(indices[0])))"
   ]
  },
  {
   "cell_type": "code",
   "execution_count": 17,
   "metadata": {},
   "outputs": [
    {
     "name": "stderr",
     "output_type": "stream",
     "text": [
      "No artists with labels found to put in legend.  Note that artists whose label start with an underscore are ignored when legend() is called with no argument.\n",
      "No artists with labels found to put in legend.  Note that artists whose label start with an underscore are ignored when legend() is called with no argument.\n"
     ]
    },
    {
     "data": {
      "image/png": "[encoded data removed]",
      "text/plain": [
       "<Figure size 576x288 with 2 Axes>"
      ]
     },
     "metadata": {
      "needs_background": "light"
     },
     "output_type": "display_data"
    }
   ],
   "source": [
    "# n*tau*T graph\n",
    "from src.lawson import Lawson\n",
    "import matplotlib.pyplot as plt\n",
    "\n",
    "lawson = Lawson()\n",
    "\n",
    "# Lawson-criteria\n",
    "T = np.array([result['control'][idx]['T_avg'] for idx in indices[0]])\n",
    "n_tau = np.array([result['state'][idx]['n_tau'] for idx in indices[0]])\n",
    "n_tau_T = T * n_tau\n",
    "\n",
    "# Cost paramter\n",
    "cost = np.array([result['state'][idx]['cost'] for idx in indices[0]])\n",
    "\n",
    "fig, axes = plt.subplots(1,2,figsize = (8,4))\n",
    "axes = axes.ravel()\n",
    "ax = axes[0]\n",
    "ax.scatter(T, n_tau)\n",
    "ax.set_xlabel(\"T(unit : keV)\")\n",
    "ax.set_ylabel(\"$(N\\\\tau_E)_{dt}(unit:10^{20}s * m^{-3})$\")\n",
    "ax.axhline(1.5, 0, 1)\n",
    "ax.set_xlim([8,25])\n",
    "ax.set_ylim([0,5])\n",
    "ax.legend()\n",
    "\n",
    "ax = axes[1]\n",
    "ax.scatter(T, cost)\n",
    "ax.set_xlabel(\"T(unit : keV)\")\n",
    "ax.set_ylabel(\"cost params\")\n",
    "ax.set_xlim([8,25])\n",
    "ax.set_ylim([0,2])\n",
    "ax.legend()\n",
    "\n",
    "fig.tight_layout()"
   ]
  },
  {
   "cell_type": "code",
   "execution_count": 18,
   "metadata": {},
   "outputs": [
    {
     "name": "stdout",
     "output_type": "stream",
     "text": [
      "R : 6.537\n",
      "a : 1.528\n",
      "blanket_thickness : 0.895\n",
      "coil_thickness : 0.877\n",
      "n : 1.365\n",
      "TBR : 1.044\n",
      "beta : 3.133\n",
      "tau : 0.961\n",
      "Ip : 10.496\n",
      "q : 2.113\n",
      "f_BS : 0.372\n",
      "Q_parallel : 583.479\n",
      "n_g : 1.431\n",
      "q_kink : 2.000\n",
      "beta_troyon : 3.146\n",
      "f_NC : 0.848\n",
      "n_tau : 1.312\n",
      "n_tau_lower : 2.574\n",
      "cost : 0.788\n",
      "betan : 3.500\n",
      "k : 1.500\n",
      "epsilon : 4.278\n",
      "electric_power : 1277777777.778\n",
      "T_avg : 13.889\n",
      "B0 : 12.444\n",
      "H : 1.267\n",
      "armour_thickness : 0.006\n",
      "RF_recirculating_rate : 0.100\n"
     ]
    }
   ],
   "source": [
    "arg_min = np.argmin(cost)\n",
    "arg_min = indices[0][arg_min]\n",
    "\n",
    "for key in result['state'][arg_min].keys():\n",
    "    print(\"{} : {:.3f}\".format(key, result['state'][arg_min][key]))\n",
    "    \n",
    "for key in result['control'][arg_min].keys():\n",
    "    print(\"{} : {:.3f}\".format(key, result['control'][arg_min][key]))\n",
    "    "
   ]
  }
 ],
 "metadata": {
  "kernelspec": {
   "display_name": "research-env",
   "language": "python",
   "name": "python3"
  },
  "language_info": {
   "codemirror_mode": {
    "name": "ipython",
    "version": 3
   },
   "file_extension": ".py",
   "mimetype": "text/x-python",
   "name": "python",
   "nbconvert_exporter": "python",
   "pygments_lexer": "ipython3",
   "version": "3.9.12"
  },
  "orig_nbformat": 4
 },
 "nbformat": 4,
 "nbformat_minor": 2
}
