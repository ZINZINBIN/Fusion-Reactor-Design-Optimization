{
 "cells": [
  {
   "cell_type": "code",
   "execution_count": 40,
   "metadata": {},
   "outputs": [
    {
     "name": "stdout",
     "output_type": "stream",
     "text": [
      "indices :  [2960 3465 3699 3741 4113 4680 4805 5051 5071 5078 5105 5161 5176 5257\n",
      " 5502 5504 5557 5624 5720 5798 5820 5935 5956 5989 5992 6022 6033 6041\n",
      " 6071 6154 6162 6249 6300 6308 6448 6472 6489 6590 6599 6670 6689 6745\n",
      " 6796 6814 6925 6965 6977 6988 7014 7021 7057 7066 7079 7128 7145 7299\n",
      " 7352 7381 7411 7454 7495 7543 7585 7714 7715 7716 7781 7786 7790 7808\n",
      " 7820 7836 7853 7944 7945 7959 8031 8054 8117 8136 8150 8152 8192 8222\n",
      " 8228 8266 8269 8352 8354 8387 8407 8421 8449 8514 8522 8531 8540 8580\n",
      " 8596 8686 8702 8706 8746 8785 8810 8851 8854 8888 8930 9023 9038 9104\n",
      " 9136 9183 9202 9235 9264 9359 9369 9406 9428 9457 9480 9489 9561 9615\n",
      " 9664 9666 9668 9722 9733 9745 9831 9835 9909 9958 9961 9997]\n"
     ]
    }
   ],
   "source": [
    "import pickle\n",
    "\n",
    "with open(\"./results/params_search_ppo.pickle\", 'rb') as f:\n",
    "    result = pickle.load(f)\n",
    "    \n",
    "tau = [comp['tau'] for comp in result['state']]\n",
    "b_limit = result['beta_limit']\n",
    "q_limit = result['q_limit']\n",
    "n_limit = result['n_limit']\n",
    "f_limit = result['f_limit']\n",
    "i_limit = result['i_limit']\n",
    "tbr = np.array([result['state'][idx]['TBR'] for idx in range(len(tau))])\n",
    "T = np.array([result['control'][idx]['T_avg'] for idx in range(len(tau))])\n",
    "\n",
    "import numpy as np\n",
    "tau = np.array(tau)\n",
    "b_limit = np.array(b_limit)\n",
    "q_limit = np.array(q_limit)\n",
    "n_limit = np.array(n_limit)\n",
    "f_limit = np.array(f_limit)\n",
    "i_limit = np.array(i_limit)\n",
    "\n",
    "indices = np.where(((b_limit == 1) * (q_limit == 1) * (n_limit == 1) * (f_limit == 1) * (tbr >= 1) * (tbr < 2)) == 1)\n",
    "print(\"indices : \", indices[0])"
   ]
  },
  {
   "cell_type": "code",
   "execution_count": 41,
   "metadata": {},
   "outputs": [
    {
     "name": "stderr",
     "output_type": "stream",
     "text": [
      "No artists with labels found to put in legend.  Note that artists whose label start with an underscore are ignored when legend() is called with no argument.\n",
      "No artists with labels found to put in legend.  Note that artists whose label start with an underscore are ignored when legend() is called with no argument.\n"
     ]
    },
    {
     "data": {
      "image/png": "[encoded data removed]",
      "text/plain": [
       "<Figure size 576x288 with 2 Axes>"
      ]
     },
     "metadata": {
      "needs_background": "light"
     },
     "output_type": "display_data"
    }
   ],
   "source": [
    "# n*tau*T graph\n",
    "from src.lawson import Lawson\n",
    "import matplotlib.pyplot as plt\n",
    "\n",
    "lawson = Lawson()\n",
    "\n",
    "# Lawson-criteria\n",
    "T = np.array([result['control'][idx]['T_avg'] for idx in indices[0]])\n",
    "n_tau = np.array([result['state'][idx]['n_tau'] for idx in indices[0]])\n",
    "n_tau_T = T * n_tau\n",
    "\n",
    "# Cost paramter\n",
    "cost = np.array([result['state'][idx]['cost'] for idx in indices[0]])\n",
    "\n",
    "fig, axes = plt.subplots(1,2,figsize = (8,4))\n",
    "axes = axes.ravel()\n",
    "ax = axes[0]\n",
    "ax.scatter(T, n_tau)\n",
    "ax.set_xlabel(\"T(unit : keV)\")\n",
    "ax.set_ylabel(\"$(N\\\\tau_E)_{dt}(unit:10^{20}s * m^{-3})$\")\n",
    "ax.axhline(1.5, 0, 1)\n",
    "ax.set_xlim([8,25])\n",
    "ax.set_ylim([0,5])\n",
    "ax.legend()\n",
    "\n",
    "ax = axes[1]\n",
    "ax.scatter(T, cost)\n",
    "ax.set_xlabel(\"T(unit : keV)\")\n",
    "ax.set_ylabel(\"cost params\")\n",
    "ax.set_xlim([8,25])\n",
    "ax.set_ylim([0,2])\n",
    "ax.legend()\n",
    "\n",
    "fig.tight_layout()"
   ]
  },
  {
   "cell_type": "code",
   "execution_count": 39,
   "metadata": {},
   "outputs": [
    {
     "name": "stdout",
     "output_type": "stream",
     "text": [
      "R : 4.959\n",
      "a : 1.771\n",
      "blanket_thickness : 1.259\n",
      "coil_thickness : 0.530\n",
      "n : 1.070\n",
      "TBR : 1.002\n",
      "beta : 5.338\n",
      "tau : 1.173\n",
      "Ip : 17.676\n",
      "q : 4.107\n",
      "f_BS : 0.129\n",
      "Q_parallel : 587.630\n",
      "n_g : 1.794\n",
      "q_kink : 2.000\n",
      "beta_troyon : 5.920\n",
      "f_NC : 0.589\n",
      "n_tau : 1.255\n",
      "n_tau_lower : 1.938\n",
      "cost : 0.724\n",
      "betan : 3.500\n",
      "k : 1.700\n",
      "epsilon : 2.800\n",
      "electric_power : 1228935546.875\n",
      "T_avg : 18.000\n",
      "B0 : 16.000\n",
      "H : 1.300\n",
      "armour_thickness : 0.120\n",
      "RF_recirculating_rate : 0.200\n"
     ]
    }
   ],
   "source": [
    "arg_min = np.argmin(cost)\n",
    "arg_min = indices[0][arg_min]\n",
    "\n",
    "for key in result['state'][arg_min].keys():\n",
    "    print(\"{} : {:.3f}\".format(key, result['state'][arg_min][key]))\n",
    "    \n",
    "for key in result['control'][arg_min].keys():\n",
    "    print(\"{} : {:.3f}\".format(key, result['control'][arg_min][key]))\n",
    "    "
   ]
  }
 ],
 "metadata": {
  "kernelspec": {
   "display_name": "research-env",
   "language": "python",
   "name": "python3"
  },
  "language_info": {
   "codemirror_mode": {
    "name": "ipython",
    "version": 3
   },
   "file_extension": ".py",
   "mimetype": "text/x-python",
   "name": "python",
   "nbconvert_exporter": "python",
   "pygments_lexer": "ipython3",
   "version": "3.9.12"
  },
  "orig_nbformat": 4
 },
 "nbformat": 4,
 "nbformat_minor": 2
}
